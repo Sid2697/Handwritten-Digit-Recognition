{
 "cells": [
  {
   "cell_type": "markdown",
   "metadata": {},
   "source": [
    "Code for converting data in .gz to .csv format"
   ]
  },
  {
   "cell_type": "code",
   "execution_count": null,
   "metadata": {},
   "outputs": [],
   "source": [
    "# # function for converting data from original format to .csv format\n",
    "def convert(imgf, labelf, outf, n):\n",
    "    file = open(imgf, 'rb')\n",
    "    output = open(outf, 'w')\n",
    "    label = open(labelf, 'rb') \n",
    "    \n",
    "    file.read(16)\n",
    "    label.read(8)\n",
    "    images = []\n",
    "    \n",
    "    for i in range(n):\n",
    "        image = [ord(label.read(1))]\n",
    "        for j in range(28*28):\n",
    "            image.append(ord(file.read(1)))\n",
    "        images.append(image)\n",
    "        \n",
    "    for image in images:\n",
    "        output.write(','.join(str(pix) for pix in image) + '\\n')\n",
    "    file.close()\n",
    "    output.close()\n",
    "    label.close()\n",
    "convert(\"train-images-idx3-ubyte.gz\", \"train-labels-idx1-ubyte.gz\",\n",
    "        \"mnist_train.csv\", 60000)\n",
    "convert(\"t10k-images-idx3-ubyte.gz\", \"t10k-labels-idx1-ubyte.gz\",\n",
    "        \"mnist_test.csv\", 10000)"
   ]
  }
 ],
 "metadata": {
  "kernelspec": {
   "display_name": "Python 3",
   "language": "python",
   "name": "python3"
  },
  "language_info": {
   "codemirror_mode": {
    "name": "ipython",
    "version": 3
   },
   "file_extension": ".py",
   "mimetype": "text/x-python",
   "name": "python",
   "nbconvert_exporter": "python",
   "pygments_lexer": "ipython3",
   "version": "3.6.4"
  }
 },
 "nbformat": 4,
 "nbformat_minor": 2
}
